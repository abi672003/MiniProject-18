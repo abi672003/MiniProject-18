{
  "nbformat": 4,
  "nbformat_minor": 0,
  "metadata": {
    "colab": {
      "provenance": [],
      "authorship_tag": "ABX9TyOkCh0K/cWKFcxxZxTdSvsj",
      "include_colab_link": true
    },
    "kernelspec": {
      "name": "python3",
      "display_name": "Python 3"
    },
    "language_info": {
      "name": "python"
    }
  },
  "cells": [
    {
      "cell_type": "markdown",
      "metadata": {
        "id": "view-in-github",
        "colab_type": "text"
      },
      "source": [
        "<a href=\"https://colab.research.google.com/github/abi672003/MiniProject-18/blob/main/Mini_Project_Resize_the_Colored_Video_to_50_(smaller)_using_OpenCV.ipynb\" target=\"_parent\"><img src=\"https://colab.research.google.com/assets/colab-badge.svg\" alt=\"Open In Colab\"/></a>"
      ]
    },
    {
      "cell_type": "code",
      "execution_count": null,
      "metadata": {
        "id": "CGgxnkDGtMoA"
      },
      "outputs": [],
      "source": [
        "pip install opencv-python"
      ]
    },
    {
      "cell_type": "code",
      "source": [
        "import cv2\n",
        "\n",
        "# Function to resize video to 50%\n",
        "def resize_video(video_path, output_path):\n",
        "    # Open the video file\n",
        "    video = cv2.VideoCapture(video_path)\n",
        "\n",
        "    # Get the original video's frame dimensions\n",
        "    width = int(video.get(cv2.CAP_PROP_FRAME_WIDTH))\n",
        "    height = int(video.get(cv2.CAP_PROP_FRAME_HEIGHT))\n",
        "\n",
        "    # Calculate the new dimensions (50% of the original size)\n",
        "    new_width = int(width * 0.5)\n",
        "    new_height = int(height * 0.5)\n",
        "\n",
        "    # Create a VideoWriter object to save the resized video\n",
        "    fourcc = cv2.VideoWriter_fourcc(*'XVID')\n",
        "    output_video = cv2.VideoWriter(output_path, fourcc, 20.0, (new_width, new_height))\n",
        "\n",
        "    # Process each frame of the video\n",
        "    while True:\n",
        "        # Read a frame from the video\n",
        "        ret, frame = video.read()\n",
        "\n",
        "        # If the frame was read successfully\n",
        "        if ret:\n",
        "            # Resize the frame to 50%\n",
        "            resized_frame = cv2.resize(frame, (new_width, new_height), interpolation=cv2.INTER_LINEAR)\n",
        "\n",
        "            # Write the resized frame to the output video\n",
        "            output_video.write(resized_frame)\n",
        "\n",
        "            # Display the resized frame\n",
        "            cv2.imshow('Resized Video', resized_frame)\n",
        "\n",
        "            # Exit if 'q' key is pressed\n",
        "            if cv2.waitKey(1) & 0xFF == ord('q'):\n",
        "                break\n",
        "        else:\n",
        "            break\n",
        "\n",
        "    # Release the video capture and writer objects\n",
        "    video.release()\n",
        "    output_video.release()\n",
        "\n",
        "    # Close all OpenCV windows\n",
        "    cv2.destroyAllWindows()\n",
        "\n",
        "# Path to the input video\n",
        "video_path = 'path/to/video.mp4'\n",
        "\n",
        "# Path to the output video\n",
        "output_path = 'path/to/output/resized_video.mp4'\n",
        "\n",
        "# Resize the video to 50%\n",
        "resize_video(video_path, output_path)\n"
      ],
      "metadata": {
        "id": "hJf9sJOQtar4"
      },
      "execution_count": null,
      "outputs": []
    }
  ]
}